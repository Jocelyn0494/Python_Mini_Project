{
 "cells": [
  {
   "cell_type": "code",
   "execution_count": 1,
   "metadata": {},
   "outputs": [],
   "source": [
    "import numpy as np\n",
    "import matplotlib.pyplot as plt"
   ]
  },
  {
   "cell_type": "code",
   "execution_count": 2,
   "metadata": {},
   "outputs": [],
   "source": [
    "# create some data\n",
    "x = np.random.randn(4096)\n",
    "y = np.random.randn(4096)"
   ]
  },
  {
   "cell_type": "code",
   "execution_count": 3,
   "metadata": {},
   "outputs": [],
   "source": [
    "heatmap,xedges, yedges = np.histogram2d(x,y,bins=(64,64))#x,y 各64个bins"
   ]
  },
  {
   "cell_type": "code",
   "execution_count": 4,
   "metadata": {},
   "outputs": [
    {
     "data": {
      "text/plain": [
       "array([-3.8947724 , -3.77405652, -3.65334065, -3.53262477, -3.41190889,\n",
       "       -3.29119301, -3.17047713, -3.04976125, -2.92904538, -2.8083295 ,\n",
       "       -2.68761362, -2.56689774, -2.44618186, -2.32546599, -2.20475011,\n",
       "       -2.08403423, -1.96331835, -1.84260247, -1.72188659, -1.60117072,\n",
       "       -1.48045484, -1.35973896, -1.23902308, -1.1183072 , -0.99759133,\n",
       "       -0.87687545, -0.75615957, -0.63544369, -0.51472781, -0.39401193,\n",
       "       -0.27329606, -0.15258018, -0.0318643 ,  0.08885158,  0.20956746,\n",
       "        0.33028333,  0.45099921,  0.57171509,  0.69243097,  0.81314685,\n",
       "        0.93386272,  1.0545786 ,  1.17529448,  1.29601036,  1.41672624,\n",
       "        1.53744212,  1.65815799,  1.77887387,  1.89958975,  2.02030563,\n",
       "        2.14102151,  2.26173738,  2.38245326,  2.50316914,  2.62388502,\n",
       "        2.7446009 ,  2.86531678,  2.98603265,  3.10674853,  3.22746441,\n",
       "        3.34818029,  3.46889617,  3.58961204,  3.71032792,  3.8310438 ])"
      ]
     },
     "execution_count": 4,
     "metadata": {},
     "output_type": "execute_result"
    }
   ],
   "source": [
    "xedges #-3.8947724 到 -3.77405652是一个bin"
   ]
  },
  {
   "cell_type": "code",
   "execution_count": 6,
   "metadata": {},
   "outputs": [
    {
     "data": {
      "text/plain": [
       "array([[ 0.,  0.,  0., ...,  0.,  0.,  0.],\n",
       "       [ 0.,  0.,  0., ...,  0.,  0.,  0.],\n",
       "       [ 0.,  0.,  0., ...,  0.,  0.,  0.],\n",
       "       ..., \n",
       "       [ 0.,  0.,  0., ...,  0.,  0.,  0.],\n",
       "       [ 0.,  0.,  0., ...,  0.,  0.,  0.],\n",
       "       [ 0.,  0.,  0., ...,  0.,  0.,  0.]])"
      ]
     },
     "execution_count": 6,
     "metadata": {},
     "output_type": "execute_result"
    }
   ],
   "source": [
    "heatmap #64*64 小方格"
   ]
  },
  {
   "cell_type": "code",
   "execution_count": 7,
   "metadata": {
    "collapsed": true
   },
   "outputs": [],
   "source": [
    "extent = [xedges[0],xedges[-1],yedges[0],yedges[-1]]#0：最小值，-1：最大值"
   ]
  },
  {
   "cell_type": "code",
   "execution_count": 10,
   "metadata": {},
   "outputs": [
    {
     "data": {
      "image/png": "[encoded data removed]",
      "text/plain": [
       "<matplotlib.figure.Figure at 0x1167b5470>"
      ]
     },
     "metadata": {},
     "output_type": "display_data"
    }
   ],
   "source": [
    "# DRAW HEATMAP\n",
    "\n",
    "plt.clf()\n",
    "plt.title('heatmap example')\n",
    "plt.ylabel('y')\n",
    "plt.xlabel('x')\n",
    "plt.imshow(heatmap,extent=extent)\n",
    "plt.colorbar()\n",
    "plt.show()"
   ]
  },
  {
   "cell_type": "code",
   "execution_count": null,
   "metadata": {
    "collapsed": true
   },
   "outputs": [],
   "source": []
  }
 ],
 "metadata": {
  "kernelspec": {
   "display_name": "Python 3",
   "language": "python",
   "name": "python3"
  },
  "language_info": {
   "codemirror_mode": {
    "name": "ipython",
    "version": 3
   },
   "file_extension": ".py",
   "mimetype": "text/x-python",
   "name": "python",
   "nbconvert_exporter": "python",
   "pygments_lexer": "ipython3",
   "version": "3.7.1"
  },
  "toc": {
   "nav_menu": {},
   "number_sections": true,
   "sideBar": true,
   "skip_h1_title": false,
   "toc_cell": false,
   "toc_position": {},
   "toc_section_display": "block",
   "toc_window_display": false
  }
 },
 "nbformat": 4,
 "nbformat_minor": 2
}
