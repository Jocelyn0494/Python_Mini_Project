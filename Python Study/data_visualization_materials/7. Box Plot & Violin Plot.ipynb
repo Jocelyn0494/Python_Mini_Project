{
 "cells": [
  {
   "cell_type": "code",
   "execution_count": 1,
   "metadata": {},
   "outputs": [],
   "source": [
    "import numpy as np\n",
    "import matplotlib.pyplot as plt"
   ]
  },
  {
   "cell_type": "code",
   "execution_count": 2,
   "metadata": {},
   "outputs": [],
   "source": [
    "# generate data\n",
    "all_data = [np.random.normal(0,std,100) for std in range(6,10)]#每一组数据量是100个,std 为6，7，8，9"
   ]
  },
  {
   "cell_type": "code",
   "execution_count": 3,
   "metadata": {},
   "outputs": [
    {
     "data": {
      "text/plain": [
       "[array([  1.10671345,  -0.77136241,  11.38659505,  -6.24509947,\n",
       "         -7.43137529,   5.8824222 ,   1.15982286,   0.37853952,\n",
       "         -9.61426389,  12.37949537,   3.82065626,  -8.69413353,\n",
       "        -16.22961386,  -7.67428372,   1.29638574,  -0.67436996,\n",
       "          3.59267532,  -4.79485264,  -5.41623293,  -7.66758421,\n",
       "          4.48079105,   2.50582132,  -2.38824857,  -7.54450422,\n",
       "         -7.99894579,   2.52108506,  -1.29769517,  -9.15790959,\n",
       "         -5.21685624,  -5.11306802,   3.91730982,  -8.10212641,\n",
       "         -3.12261636,   6.11915022,  -7.60876023,   4.30777808,\n",
       "          7.66615411,   5.51466938,  -6.80843942,  -2.89986547,\n",
       "          2.38483219,  -0.53088712,   5.38898246,  -1.79413789,\n",
       "         -8.03078061,   0.67846019,   3.46729319, -10.79214223,\n",
       "         -1.02331049,   6.76962486,   7.54936556,  -7.74778219,\n",
       "          1.97370203,   0.29630452,  -4.4881673 ,   6.57084543,\n",
       "        -10.11793449,   8.73411522,  -7.55933376,   1.66801302,\n",
       "          9.85671881,  -0.73265737,   1.22027039,  -2.97951053,\n",
       "          9.51928584,  -5.84274777,   2.375246  ,   4.59068798,\n",
       "          3.60113632,   0.12071044,   1.85752776,   7.82988879,\n",
       "          0.9165921 ,  -6.21173061,  -4.84317636, -14.33910294,\n",
       "         -4.46808086,   4.30244545,   0.04676244,   5.22554783,\n",
       "          0.99476517, -11.15260029,   6.73765136, -12.94080228,\n",
       "          8.83031776,  -0.88920674,  -4.21947171,  10.47520995,\n",
       "         -1.25155176,   2.40765705,   1.47629035,  -0.54827883,\n",
       "         -6.34855914,   1.73245089,  -0.51254445,   7.53163719,\n",
       "          2.84899279,  -1.59807406,   1.2868417 ,  -3.13049391]),\n",
       " array([ -0.65878506,   2.50812779,   7.38421615,   2.82623535,\n",
       "        -15.10510024,   0.60488705,   9.28655828,   7.80254078,\n",
       "         -5.13440358,  -2.96326537,   6.04103582,  -2.33792946,\n",
       "          1.73962991,   6.80086007,  -5.78297783,  11.13364706,\n",
       "         -8.25732693,   5.93624615,   2.13072481,   0.51092473,\n",
       "         -1.15623201,  -2.9908001 ,   2.38832324,  -7.29492157,\n",
       "          7.78176481,   2.87770905,  -0.78104622,   4.93175616,\n",
       "          2.44535177,   0.6540094 ,  -7.32547652,   4.7554417 ,\n",
       "          4.64822117, -10.92227599,  -5.63634175,   7.9876408 ,\n",
       "        -14.99194504,  16.16476123,  -3.98204395,  14.60113765,\n",
       "          6.35701649,   7.54208607,  15.03030616,  12.47489502,\n",
       "          7.51961196,  -2.779649  ,  13.98772064,  -6.49080608,\n",
       "          0.43946057,  -5.07021898,  -7.18337469,  -4.51054447,\n",
       "         -9.92043654,   0.20027386,  -9.02137378,  13.41888886,\n",
       "          0.07768401,   9.86104028,   0.44280734,   3.35280338,\n",
       "         10.08596619,  -2.75107745,  -2.11344117,  -3.51490159,\n",
       "         -1.44294639,   6.79120416,  -4.93464402,  -2.42919393,\n",
       "         -5.21859106,  -2.31432055,   2.15303328, -13.22006922,\n",
       "          9.32169671,  -2.54336775,  -0.82461792,  -0.91001976,\n",
       "         -8.11251542,   4.31285479,  14.01019774,  -1.87065043,\n",
       "         -1.6399953 ,   1.06002235,   8.6737037 ,  -6.30585875,\n",
       "         -3.05552781,   3.8256444 ,   4.63541073,  -4.04600197,\n",
       "          8.34816293,  -5.17357542,   7.26174321,   4.98771337,\n",
       "         10.35940172, -12.27328677,   5.34371698,  -7.9594758 ,\n",
       "         -8.06706712,  -5.9544968 ,  -2.00302924,  12.42612085]),\n",
       " array([ -5.2629761 , -10.49802527,  -6.52139035,  12.41703095,\n",
       "        -12.184429  ,  -4.24154356,   3.843812  ,   8.29372235,\n",
       "        -10.60009106,  -3.42179652,   1.74056101,  -6.88277501,\n",
       "         -7.2790269 ,  10.87920421,  -3.08826187,   5.10331478,\n",
       "        -15.37576128, -13.67849352, -17.45976429,  -7.18125663,\n",
       "        -16.46652405,  -0.75314295, -12.04659541,   1.1286724 ,\n",
       "         -2.10891473,  -5.73677013,   7.51413332,  -3.97514907,\n",
       "          8.42485866,  -5.04702063,  -6.54033554,   5.21669995,\n",
       "         -8.60844873, -13.27897739,  -1.4116357 ,  -7.3665479 ,\n",
       "          4.98461396,   3.50278405,  -6.39013361,  10.62404264,\n",
       "         10.65179303,  -5.34542133,   6.46952271,   5.6385013 ,\n",
       "          2.12617718, -12.67843995,   0.64876274,  -0.90693658,\n",
       "          1.46172826,  -1.47367479, -18.92917681,   0.94561262,\n",
       "          3.91109385,  23.99811708,   3.8612691 ,  -9.3639632 ,\n",
       "         -8.27509255,  -4.35846168,  -1.39683257,  -0.29256433,\n",
       "         -1.83789986,  -0.02624306,  -0.79598369,   2.65314755,\n",
       "         -0.67755745,   4.9149246 ,  -3.41124882,   7.92880912,\n",
       "         -4.2574423 ,   2.68136549,  -3.61816567,   0.99286236,\n",
       "         11.15734857,  -0.79919441,  -7.39968532,   1.02830961,\n",
       "         -9.62297812,   6.0609154 ,  -2.11892994,  -0.64821595,\n",
       "         -2.65435267,  -3.02411654,   2.29585863,  13.88560105,\n",
       "         -0.18543481,   8.63098267,  -6.97494358,  -9.3126814 ,\n",
       "          2.61940189,  -6.19255945,   1.76139552,  -5.34788067,\n",
       "          9.21911038,   4.56366445,   2.67567817,  -2.38152915,\n",
       "         -3.78469839,   8.45836137,   7.490536  , -16.41680389]),\n",
       " array([ -4.84470785,  18.11737628,  15.58654376,  -7.444607  ,\n",
       "          1.62832001,  11.08038433,   6.51720656,   6.97769974,\n",
       "         -8.62739694,  -3.01284539,  11.24840626,   3.68183069,\n",
       "         11.75085635,  -9.77566379,  -4.08878164,  13.20729117,\n",
       "          3.0783656 ,   1.2705617 ,  18.85743988,   8.93873212,\n",
       "        -10.22689196,   1.37728064,  -3.6592629 , -11.71122678,\n",
       "         -7.02606827,   6.38560418,  15.23913984,  -6.66841472,\n",
       "         -0.0890118 , -16.27176191, -11.71791803,  -1.95063932,\n",
       "        -12.93342836,   8.98008453,  -1.90010535,   9.44829856,\n",
       "          4.94713253,  -6.38386076,  14.29047973,   3.25287023,\n",
       "          1.5446891 ,  -0.63761557,  -1.42291736,  12.11345919,\n",
       "          2.41590243,   2.41324311,  -7.74758514,  23.28457134,\n",
       "         -6.55643928, -10.07471577,   2.83498296,   0.35477972,\n",
       "          8.53456106,  -4.909812  ,  11.64981453,  -6.06846988,\n",
       "          1.73435094, -23.06807792,   6.33069351,   9.95493027,\n",
       "        -19.14842247, -13.34687708,  -3.23260802,   8.32245311,\n",
       "          5.47709775,  13.92108251, -12.11593922,   6.86080406,\n",
       "         -4.01772316,  -1.29266222,  -5.23670701, -12.05483493,\n",
       "          5.66308013,   0.7785595 ,  -8.63251273,  15.49980159,\n",
       "          3.62015529,   1.47430782,  -6.48512856,  21.41660857,\n",
       "         -3.00453616,  10.55279891, -16.15359571,  -1.97987926,\n",
       "         24.70909584, -10.02458445,   5.66720853,  -3.27354045,\n",
       "          2.88838724,  -1.40879724,   5.88290979,  -0.6338002 ,\n",
       "         18.352921  ,  -6.26993352,   2.60634055,   2.7176839 ,\n",
       "          2.2410457 ,   9.26993421,  -6.79127402,   3.21469524])]"
      ]
     },
     "execution_count": 3,
     "metadata": {},
     "output_type": "execute_result"
    }
   ],
   "source": [
    "all_data\n"
   ]
  },
  {
   "cell_type": "code",
   "execution_count": 14,
   "metadata": {},
   "outputs": [],
   "source": [
    "# make figure\n",
    "fig, axes = plt.subplots(nrows=1,ncols=2,figsize=(9,4)) #1行2列的区块，"
   ]
  },
  {
   "cell_type": "code",
   "execution_count": 15,
   "metadata": {},
   "outputs": [
    {
     "data": {
      "image/png": "[encoded data removed]",
      "text/plain": [
       "<matplotlib.figure.Figure at 0x1150b3630>"
      ]
     },
     "metadata": {},
     "output_type": "display_data"
    }
   ],
   "source": [
    "# plot violin plot\n",
    "axes[0].violinplot(all_data,showmeans=False, showmedians=True)#axes[0]位置\n",
    "axes[0].set_title('violin plot')\n",
    "\n",
    "# plot box plot\n",
    "axes[1].boxplot(all_data)\n",
    "axes[1].set_title('box plot')\n",
    "\n",
    "# Add horizontal grid lines\n",
    "for ax in axes:\n",
    "    ax.yaxis.grid(True)\n",
    "    ax.set_xticks([y+1for y in range(len(all_data))])\n",
    "    ax.set_xlabel('xlabel')\n",
    "    ax.set_ylabel('ylabel')\n",
    "\n",
    "# add x-tick label\n",
    "plt.setp(axes,xticks=[y+1for y in range(len(all_data))],xticklabels=['x1','x2','x3','x4'])#返回的是y+1\n",
    "plt.show()"
   ]
  },
  {
   "cell_type": "code",
   "execution_count": null,
   "metadata": {
    "collapsed": true
   },
   "outputs": [],
   "source": []
  }
 ],
 "metadata": {
  "kernelspec": {
   "display_name": "Python 3",
   "language": "python",
   "name": "python3"
  },
  "language_info": {
   "codemirror_mode": {
    "name": "ipython",
    "version": 3
   },
   "file_extension": ".py",
   "mimetype": "text/x-python",
   "name": "python",
   "nbconvert_exporter": "python",
   "pygments_lexer": "ipython3",
   "version": "3.7.1"
  },
  "toc": {
   "nav_menu": {},
   "number_sections": true,
   "sideBar": true,
   "skip_h1_title": false,
   "toc_cell": false,
   "toc_position": {},
   "toc_section_display": "block",
   "toc_window_display": false
  }
 },
 "nbformat": 4,
 "nbformat_minor": 2
}
